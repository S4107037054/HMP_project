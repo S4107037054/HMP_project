{
 "cells": [
  {
   "cell_type": "markdown",
   "id": "82113e8c-8b6d-43a1-a2e3-ed54c524a5e3",
   "metadata": {
    "tags": []
   },
   "source": [
    "# INSTALL **QIIME** 2 and **NEXTFLOW** within conda environment"
   ]
  },
  {
   "cell_type": "markdown",
   "id": "81a779a4-a669-44c3-b358-fe39a258a40b",
   "metadata": {},
   "source": [
    "## 下載[QIIME 2](https://docs.qiime2.org/2023.5/install/native/#install-qiime-2-within-a-conda-environment) conda配置檔.yml (連線失敗則至登入節點進行安裝步驟)"
   ]
  },
  {
   "cell_type": "code",
   "execution_count": null,
   "id": "2340913e-6aa1-46cf-ae9a-d38c5c286a48",
   "metadata": {},
   "outputs": [],
   "source": [
    "wget https://data.qiime2.org/distro/core/qiime2-2023.5-py38-linux-conda.yml"
   ]
  },
  {
   "cell_type": "markdown",
   "id": "e8ed4389-b4f7-4dcd-a4c2-0a7e22564d3a",
   "metadata": {},
   "source": [
    "## 編輯配置檔加入[nextflow](https://anaconda.org/bioconda/nextflow)"
   ]
  },
  {
   "cell_type": "markdown",
   "id": "2c84ffa3-2783-47d1-9920-cc490cbbc83e",
   "metadata": {},
   "source": [
    "```\n",
    "- nextflow=23.04.1\n",
    "- krona=2.8.1\n",
    "```"
   ]
  },
  {
   "cell_type": "markdown",
   "id": "81d511e8-2cc9-4aca-bf46-4c273e791954",
   "metadata": {},
   "source": [
    "## 啟動conda"
   ]
  },
  {
   "cell_type": "code",
   "execution_count": null,
   "id": "3a5b7d23-42a0-498b-b881-be7a6799ff22",
   "metadata": {},
   "outputs": [],
   "source": [
    "source /work/c00cjz002/share/miniconda3_py38/bin/activate"
   ]
  },
  {
   "cell_type": "markdown",
   "id": "c24ee008-210c-47b5-aacd-b1610ce4a7d9",
   "metadata": {},
   "source": [
    "## 使用配置檔建立conda env (HMP_project)\n",
    "**約 11 分鐘**"
   ]
  },
  {
   "cell_type": "code",
   "execution_count": null,
   "id": "d0e61ebe-201f-49d8-a11d-bd0f8e6e064a",
   "metadata": {},
   "outputs": [],
   "source": [
    "conda env create -n HMP_project --file qiime2-2023.5-py38-linux-conda.yml"
   ]
  },
  {
   "cell_type": "markdown",
   "id": "a4fb4e59-868f-48ef-a311-b1e2592ffdf7",
   "metadata": {},
   "source": [
    "- `conda env create`: 建立新的conda環境\n",
    "- `-n ...`: 指定環境名稱\n",
    "- `python3==... openjdk==...`: 同時安裝python以及openjdk，並指定版本"
   ]
  },
  {
   "cell_type": "markdown",
   "id": "fe1b406d-c39e-4c25-858d-5c699509bb6d",
   "metadata": {},
   "source": [
    "## 顯示所有conda環境"
   ]
  },
  {
   "cell_type": "code",
   "execution_count": null,
   "id": "ba0b6718-3157-4608-95bc-3b9ae6bb4c47",
   "metadata": {},
   "outputs": [],
   "source": [
    "conda env list"
   ]
  },
  {
   "cell_type": "markdown",
   "id": "96c28977-51e5-441c-851f-87eda54ccd27",
   "metadata": {},
   "source": [
    "## 進入/離開 conda env"
   ]
  },
  {
   "cell_type": "code",
   "execution_count": null,
   "id": "830cf5a6-f51f-4ede-b457-c4923a0cdcf7",
   "metadata": {},
   "outputs": [],
   "source": [
    "conda activate HMP_project\n",
    "conda deactivate HMP_project"
   ]
  }
 ],
 "metadata": {
  "kernelspec": {
   "display_name": "Python 3 (ipykernel)",
   "language": "python",
   "name": "python3"
  },
  "language_info": {
   "codemirror_mode": {
    "name": "ipython",
    "version": 3
   },
   "file_extension": ".py",
   "mimetype": "text/x-python",
   "name": "python",
   "nbconvert_exporter": "python",
   "pygments_lexer": "ipython3",
   "version": "3.11.4"
  }
 },
 "nbformat": 4,
 "nbformat_minor": 5
}
